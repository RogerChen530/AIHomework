{
 "cells": [
  {
   "cell_type": "markdown",
   "metadata": {},
   "source": [
    "首先，我們需要了解CartPole環境的觀察值和行動空間：\n",
    "\n",
    "Observation: 包括4個值，分別是小車的位置（cart position）、小車的速度（cart velocity）、竿子的角度（pole angle）和竿子的角速度（pole velocity at tip）。\n",
    "Action: 有兩個值，0表示向左推小車，1表示向右推小車。\n",
    "\n",
    "下面是一個完整的程式，根據竿子的角度來決定行動，並記錄每次竿子能撐多久。"
   ]
  },
  {
   "cell_type": "code",
   "execution_count": 5,
   "metadata": {},
   "outputs": [
    {
     "ename": "ModuleNotFoundError",
     "evalue": "No module named 'gym'",
     "output_type": "error",
     "traceback": [
      "\u001b[0;31m---------------------------------------------------------------------------\u001b[0m",
      "\u001b[0;31mModuleNotFoundError\u001b[0m                       Traceback (most recent call last)",
      "Cell \u001b[0;32mIn[5], line 1\u001b[0m\n\u001b[0;32m----> 1\u001b[0m \u001b[38;5;28;01mimport\u001b[39;00m \u001b[38;5;21;01mgym\u001b[39;00m\n\u001b[1;32m      3\u001b[0m \u001b[38;5;66;03m# 初始化CartPole環境\u001b[39;00m\n\u001b[1;32m      4\u001b[0m env \u001b[38;5;241m=\u001b[39m gym\u001b[38;5;241m.\u001b[39mmake(\u001b[38;5;124m\"\u001b[39m\u001b[38;5;124mCartPole-v1\u001b[39m\u001b[38;5;124m\"\u001b[39m, render_mode\u001b[38;5;241m=\u001b[39m\u001b[38;5;124m\"\u001b[39m\u001b[38;5;124mhuman\u001b[39m\u001b[38;5;124m\"\u001b[39m)\n",
      "\u001b[0;31mModuleNotFoundError\u001b[0m: No module named 'gym'"
     ]
    }
   ],
   "source": [
    "import gym\n",
    "\n",
    "# 初始化CartPole環境\n",
    "env = gym.make(\"CartPole-v1\", render_mode=\"human\")\n",
    "observation, info = env.reset(seed=42)\n",
    "\n",
    "# 記錄每次撐的時間\n",
    "durations = []\n",
    "\n",
    "for episode in range(10):  # 我們運行10次試驗\n",
    "    observation, info = env.reset()\n",
    "    total_steps = 0\n",
    "    \n",
    "    while True:\n",
    "        env.render()\n",
    "        \n",
    "        # 根據竿子的角度來決定行動\n",
    "        angle = observation[2]\n",
    "        if angle > 0:\n",
    "            action = 1  # 向右推小車\n",
    "        else:\n",
    "            action = 0  # 向左推小車\n",
    "        \n",
    "        observation, reward, terminated, truncated, info = env.step(action)\n",
    "        total_steps += 1\n",
    "        \n",
    "        if terminated or truncated:\n",
    "            durations.append(total_steps)\n",
    "            print(f'Episode {episode + 1}: duration = {total_steps} steps')\n",
    "            break\n",
    "\n",
    "env.close()\n",
    "\n",
    "# 顯示所有試驗的結果\n",
    "print(\"All durations:\", durations)\n",
    "print(f\"Average duration: {sum(durations) / len(durations):.2f} steps\")\n"
   ]
  }
 ],
 "metadata": {
  "kernelspec": {
   "display_name": "Python 3",
   "language": "python",
   "name": "python3"
  },
  "language_info": {
   "codemirror_mode": {
    "name": "ipython",
    "version": 3
   },
   "file_extension": ".py",
   "mimetype": "text/x-python",
   "name": "python",
   "nbconvert_exporter": "python",
   "pygments_lexer": "ipython3",
   "version": "3.10.11"
  }
 },
 "nbformat": 4,
 "nbformat_minor": 2
}
